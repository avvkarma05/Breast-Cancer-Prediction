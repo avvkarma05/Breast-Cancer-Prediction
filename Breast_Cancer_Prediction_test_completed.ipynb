{
 "cells": [
  {
   "cell_type": "markdown",
   "id": "aa2e7851",
   "metadata": {},
   "source": [
    "# Breast Cancer Prediction Project\n",
    "\n",
    "Welcome to the Breast Cancer Prediction project! 🎯\n",
    "\n",
    "In this beginner-friendly notebook, we'll walk through a step-by-step machine learning pipeline to predict whether a tumor is malignant or benign based on various features."
   ]
  },
  {
   "cell_type": "markdown",
   "id": "eba2416b",
   "metadata": {},
   "source": [
    "## 🔍 Objective\n",
    "\n",
    "Our goal is to build a machine learning model that can accurately predict whether a tumor is **malignant (M)** or **benign (B)** based on a set of measurements.\n",
    "\n",
    "We'll use the dataset `Cancer_Data.csv` for this purpose."
   ]
  },
  {
   "cell_type": "code",
   "execution_count": null,
   "id": "998a8354",
   "metadata": {},
   "outputs": [],
   "source": [
    "import pandas as pd\n",
    "import numpy as np\n",
    "import matplotlib.pyplot as plt\n",
    "import seaborn as sns\n",
    "from sklearn.model_selection import train_test_split\n",
    "from sklearn.preprocessing import StandardScaler\n",
    "from sklearn.linear_model import LogisticRegression\n",
    "from sklearn.metrics import classification_report, confusion_matrix, accuracy_score"
   ]
  },
  {
   "cell_type": "markdown",
   "id": "db7225c4",
   "metadata": {},
   "source": [
    "## 📥 Step 1: Load the Dataset"
   ]
  },
  {
   "cell_type": "code",
   "execution_count": null,
   "id": "50d54c34",
   "metadata": {},
   "outputs": [],
   "source": [
    "data = pd.read_csv('Cancer_Data.csv')"
   ]
  },
  {
   "cell_type": "markdown",
   "id": "5c06f4d3",
   "metadata": {},
   "source": [
    "## 🔍 Step 2: Explore the Dataset"
   ]
  },
  {
   "cell_type": "code",
   "execution_count": null,
   "id": "3f693b76",
   "metadata": {},
   "outputs": [],
   "source": [
    "# For displaying the first few rows of the dataset\n",
    "print(data.head())"
   ]
  },
  {
   "cell_type": "code",
   "execution_count": null,
   "id": "91695cf6",
   "metadata": {},
   "outputs": [],
   "source": [
    "# To check the shape (number of rows and columns)\n",
    "print(\"\\nShape of the dataset:\", data.shape)"
   ]
  },
  {
   "cell_type": "code",
   "execution_count": null,
   "id": "c3cdaa4d",
   "metadata": {},
   "outputs": [],
   "source": [
    "# To get summary statistics of the dataset\n",
    "print(\"\\nSummary statistics:\\n\", data.describe())"
   ]
  },
  {
   "cell_type": "code",
   "execution_count": null,
   "id": "91e69929",
   "metadata": {},
   "outputs": [],
   "source": [
    "# To check for missing values\n",
    "print(\"\\nMissing values in the dataset:\\n\", data.isnull().sum())"
   ]
  },
  {
   "cell_type": "code",
   "execution_count": null,
   "id": "6647329c",
   "metadata": {},
   "outputs": [],
   "source": [
    "# To check the data types of each column\n",
    "print(\"\\nData types:\\n\", data.dtypes)"
   ]
  },
  {
   "cell_type": "markdown",
   "id": "0e60efda",
   "metadata": {},
   "source": [
    "## 🧹 Step 3: Clean the Data\n",
    "\n",
    "We'll remove any unnecessary columns and handle missing values."
   ]
  },
  {
   "cell_type": "code",
   "execution_count": null,
   "id": "3eac7e2f",
   "metadata": {},
   "outputs": [],
   "source": [
    "# Drop the 'Unnamed: 32' column and 'id'\n",
    "data = data.drop(columns=['Unnamed: 32', 'id'], errors='ignore')"
   ]
  },
  {
   "cell_type": "markdown",
   "id": "bd6b80db",
   "metadata": {},
   "source": [
    "## 📊 Step 4: Visualize the Data"
   ]
  },
  {
   "cell_type": "code",
   "execution_count": null,
   "id": "4fff8ff4",
   "metadata": {},
   "outputs": [],
   "source": [
    "# to plot the distribution of the 'diagnosis' column\n",
    "sns.countplot(x='diagnosis', data=data)\n",
    "plt.title('Distribution of Diagnosis')\n",
    "plt.xlabel('Diagnosis (0: Benign, 1: Malignant)')\n",
    "plt.ylabel('Count')\n",
    "plt.show()\n",
    "\n",
    "# To plot a heatmap of the correlation matrix\n",
    "plt.figure(figsize=(12, 8))\n",
    "sns.heatmap(data.corr(), annot=True, cmap='coolwarm', fmt='.2f', linewidths=0.5)\n",
    "plt.title('Correlation Heatmap')\n",
    "plt.show()\n",
    "\n",
    "# To visualize relationships between features\n",
    "sns.pairplot(data, hue='diagnosis', diag_kind='kde')\n",
    "plt.show()"
   ]
  },
  {
   "cell_type": "markdown",
   "id": "ac0de1dd",
   "metadata": {},
   "source": [
    "## ⚙️ Step 5: Preprocess the Data"
   ]
  },
  {
   "cell_type": "code",
   "execution_count": null,
   "id": "18ecd4e8",
   "metadata": {},
   "outputs": [],
   "source": [
    "# Convert diagnosis column to 0 (benign) and 1 (malignant)\n",
    "data['diagnosis'] = data['diagnosis'].map({'M': 1, 'B': 0})\n",
    "\n",
    "# Split features and labels\n",
    "X = data.drop('diagnosis', axis=1)\n",
    "y = data['diagnosis']\n",
    "\n",
    "# Split into training and testing sets\n",
    "X_train, X_test, y_train, y_test = train_test_split(X, y, test_size=0.2, random_state=42)\n",
    "\n",
    "# Scale the features\n",
    "scaler = StandardScaler()\n",
    "X_train = scaler.fit_transform(X_train)\n",
    "X_test = scaler.transform(X_test)\n"
   ]
  },
  {
   "cell_type": "markdown",
   "id": "88856e04",
   "metadata": {},
   "source": [
    "## 🤖 Step 6: Train a Machine Learning Model"
   ]
  },
  {
   "cell_type": "code",
   "execution_count": null,
   "id": "687bea41",
   "metadata": {},
   "outputs": [],
   "source": [
    "# Use Logistic Regression\n",
    "model = LogisticRegression()\n",
    "model.fit(X_train, y_train)"
   ]
  },
  {
   "cell_type": "markdown",
   "id": "6aee720c",
   "metadata": {},
   "source": [
    "## 🧪 Step 7: Evaluate the Model"
   ]
  },
  {
   "cell_type": "code",
   "execution_count": null,
   "id": "cde65e51",
   "metadata": {},
   "outputs": [],
   "source": [
    "\n",
    "# Make predictions\n",
    "y_pred = model.predict(X_test)\n",
    "\n",
    "# Evaluate the model\n",
    "print(\"Confusion Matrix:\\n\", confusion_matrix(y_test, y_pred))\n",
    "print(\"\\nClassification Report:\\n\", classification_report(y_test, y_pred))\n",
    "print(\"Accuracy Score:\", accuracy_score(y_test, y_pred))"
   ]
  },
  {
   "cell_type": "markdown",
   "id": "fe685fa3",
   "metadata": {},
   "source": [
    "## ✅ Conclusion\n",
    "\n",
    "Awesome work! 🎉\n",
    "\n",
    "You've successfully built a breast cancer prediction model using Logistic Regression. You explored the data, cleaned it, visualized it, trained a model, and evaluated its performance.\n",
    "\n",
    "### 🚀 Next Steps\n",
    "- Try different models like RandomForest or SVM\n",
    "- Perform feature selection\n",
    "- Tune hyperparameters for better accuracy"
   ]
  }
 ],
 "metadata": {
  "language_info": {
   "name": "python"
  }
 },
 "nbformat": 4,
 "nbformat_minor": 5
}
